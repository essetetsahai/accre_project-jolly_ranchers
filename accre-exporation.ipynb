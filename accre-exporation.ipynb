{
 "cells": [
  {
   "cell_type": "markdown",
   "id": "53baf4c5",
   "metadata": {},
   "source": [
    "## The Advanced Computing Center for Research and Education (ACCRE) is a computer cluster serving the high-performance computing needs of research for Vanderbilt University. \n",
    "\n",
    "**In this data question, we will be analyzing data on jobs run on ACCRE's hardware**"
   ]
  },
  {
   "cell_type": "code",
   "execution_count": 1,
   "id": "eda9cf2b",
   "metadata": {},
   "outputs": [],
   "source": [
    "import pandas as pd"
   ]
  },
  {
   "cell_type": "markdown",
   "id": "c17639b0",
   "metadata": {},
   "source": [
    "**DATA DICTIONAR**\n",
    "**JOBID**\tThe identification number of the job or job step. Regular jobs are in the form JobID and array jobs are in the form ArrayJobID_ArrayTaskID;\n",
    "**ACCOUNT**\tThe account under which the job was submitted;\n",
    "**USER**\tThe user who submitted the job;\n",
    "**USEDMEM**\tUsed memory in megabytes per-node\n",
    "**REQTIME**\tRequested time in d-hh:mm:ss or hh:mm:ss;\n",
    "**USEDTIME**\tUsed time in d-hh:mm:ss or hh:mm:ss;\n",
    "**NODES**\tNumber of servers used for this job;\n",
    "**CPUS**\tTotal number of CPU-cores allocated to the job;\n",
    "**GPUS**\tTotal number of GPUs allocated to the job;\n",
    "**PARTITION**\tIdentifies the partition on which the job ran;\n",
    "**EXITCODE**\tThe exit code returned by the job script or salloc, typically as set by the exit() function. Following the colon is the signal that caused the process to terminate if it was terminated by a signal;\n",
    "**STATE**\tJob state or status (COMPLETED, CANCELLED, FAILED, TIMEOUT, PREEMPTED, etc.);"
   ]
  },
  {
   "cell_type": "code",
   "execution_count": 2,
   "id": "157d4480",
   "metadata": {},
   "outputs": [
    {
     "name": "stderr",
     "output_type": "stream",
     "text": [
      "C:\\Users\\upadh\\AppData\\Local\\Temp\\ipykernel_16564\\3937202199.py:1: FutureWarning: The error_bad_lines argument has been deprecated and will be removed in a future version. Use on_bad_lines in the future.\n",
      "\n",
      "\n",
      "  df1 = pd.read_csv('data/accre-gpu-jobs-2022-v2.csv', error_bad_lines=False)\n",
      "b'Skipping line 124084: expected 12 fields, saw 13\\nSkipping line 124809: expected 12 fields, saw 13\\n'\n"
     ]
    }
   ],
   "source": [
    "df1 = pd.read_csv('data/accre-gpu-jobs-2022-v2.csv', error_bad_lines=False)"
   ]
  },
  {
   "cell_type": "code",
   "execution_count": 3,
   "id": "efd36097",
   "metadata": {},
   "outputs": [
    {
     "data": {
      "text/html": [
       "<div>\n",
       "<style scoped>\n",
       "    .dataframe tbody tr th:only-of-type {\n",
       "        vertical-align: middle;\n",
       "    }\n",
       "\n",
       "    .dataframe tbody tr th {\n",
       "        vertical-align: top;\n",
       "    }\n",
       "\n",
       "    .dataframe thead th {\n",
       "        text-align: right;\n",
       "    }\n",
       "</style>\n",
       "<table border=\"1\" class=\"dataframe\">\n",
       "  <thead>\n",
       "    <tr style=\"text-align: right;\">\n",
       "      <th></th>\n",
       "      <th>JOBID</th>\n",
       "      <th>ACCOUNT</th>\n",
       "      <th>USER</th>\n",
       "      <th>USEDMEM</th>\n",
       "      <th>REQTIME</th>\n",
       "      <th>USEDTIME</th>\n",
       "      <th>NODES</th>\n",
       "      <th>CPUS</th>\n",
       "      <th>GPUS</th>\n",
       "      <th>PARTITION</th>\n",
       "      <th>EXITCODE</th>\n",
       "      <th>STATE</th>\n",
       "    </tr>\n",
       "  </thead>\n",
       "  <tbody>\n",
       "    <tr>\n",
       "      <th>0</th>\n",
       "      <td>32880657</td>\n",
       "      <td>malanga</td>\n",
       "      <td>arline</td>\n",
       "      <td>18.66M</td>\n",
       "      <td>2-00:00:00</td>\n",
       "      <td>00:13:13</td>\n",
       "      <td>1</td>\n",
       "      <td>2</td>\n",
       "      <td>1</td>\n",
       "      <td>pascal</td>\n",
       "      <td>0:0</td>\n",
       "      <td>COMPLETED</td>\n",
       "    </tr>\n",
       "    <tr>\n",
       "      <th>1</th>\n",
       "      <td>32880701</td>\n",
       "      <td>glasshouse</td>\n",
       "      <td>brady</td>\n",
       "      <td>0</td>\n",
       "      <td>05:00:00</td>\n",
       "      <td>00:00:22</td>\n",
       "      <td>1</td>\n",
       "      <td>3</td>\n",
       "      <td>1</td>\n",
       "      <td>maxwell</td>\n",
       "      <td>0:0</td>\n",
       "      <td>COMPLETED</td>\n",
       "    </tr>\n",
       "    <tr>\n",
       "      <th>2</th>\n",
       "      <td>32880718</td>\n",
       "      <td>glasshouse</td>\n",
       "      <td>brady</td>\n",
       "      <td>402.32M</td>\n",
       "      <td>05:00:00</td>\n",
       "      <td>00:08:57</td>\n",
       "      <td>1</td>\n",
       "      <td>3</td>\n",
       "      <td>1</td>\n",
       "      <td>maxwell</td>\n",
       "      <td>0:0</td>\n",
       "      <td>COMPLETED</td>\n",
       "    </tr>\n",
       "    <tr>\n",
       "      <th>3</th>\n",
       "      <td>32880719</td>\n",
       "      <td>glasshouse</td>\n",
       "      <td>brady</td>\n",
       "      <td>417.62M</td>\n",
       "      <td>20:00:00</td>\n",
       "      <td>05:09:46</td>\n",
       "      <td>1</td>\n",
       "      <td>1</td>\n",
       "      <td>1</td>\n",
       "      <td>pascal</td>\n",
       "      <td>0:0</td>\n",
       "      <td>COMPLETED</td>\n",
       "    </tr>\n",
       "    <tr>\n",
       "      <th>4</th>\n",
       "      <td>32880720</td>\n",
       "      <td>glasshouse</td>\n",
       "      <td>brady</td>\n",
       "      <td>450.09M</td>\n",
       "      <td>15:00:00</td>\n",
       "      <td>04:11:10</td>\n",
       "      <td>1</td>\n",
       "      <td>1</td>\n",
       "      <td>1</td>\n",
       "      <td>pascal</td>\n",
       "      <td>0:0</td>\n",
       "      <td>COMPLETED</td>\n",
       "    </tr>\n",
       "  </tbody>\n",
       "</table>\n",
       "</div>"
      ],
      "text/plain": [
       "      JOBID     ACCOUNT    USER  USEDMEM     REQTIME  USEDTIME  NODES  CPUS  \\\n",
       "0  32880657     malanga  arline   18.66M  2-00:00:00  00:13:13      1     2   \n",
       "1  32880701  glasshouse   brady        0    05:00:00  00:00:22      1     3   \n",
       "2  32880718  glasshouse   brady  402.32M    05:00:00  00:08:57      1     3   \n",
       "3  32880719  glasshouse   brady  417.62M    20:00:00  05:09:46      1     1   \n",
       "4  32880720  glasshouse   brady  450.09M    15:00:00  04:11:10      1     1   \n",
       "\n",
       "   GPUS PARTITION EXITCODE      STATE  \n",
       "0     1    pascal      0:0  COMPLETED  \n",
       "1     1   maxwell      0:0  COMPLETED  \n",
       "2     1   maxwell      0:0  COMPLETED  \n",
       "3     1    pascal      0:0  COMPLETED  \n",
       "4     1    pascal      0:0  COMPLETED  "
      ]
     },
     "execution_count": 3,
     "metadata": {},
     "output_type": "execute_result"
    }
   ],
   "source": [
    "df1.head()"
   ]
  },
  {
   "cell_type": "code",
   "execution_count": 4,
   "id": "c7d4034f",
   "metadata": {},
   "outputs": [],
   "source": [
    "#(mem  *  usedtime)/usedtime"
   ]
  },
  {
   "cell_type": "code",
   "execution_count": 5,
   "id": "2f08f7b0",
   "metadata": {},
   "outputs": [
    {
     "data": {
      "text/plain": [
       "(336950, 12)"
      ]
     },
     "execution_count": 5,
     "metadata": {},
     "output_type": "execute_result"
    }
   ],
   "source": [
    "df1.shape"
   ]
  },
  {
   "cell_type": "code",
   "execution_count": 6,
   "id": "55b4285b",
   "metadata": {},
   "outputs": [
    {
     "name": "stdout",
     "output_type": "stream",
     "text": [
      "<class 'pandas.core.frame.DataFrame'>\n",
      "RangeIndex: 336950 entries, 0 to 336949\n",
      "Data columns (total 12 columns):\n",
      " #   Column     Non-Null Count   Dtype \n",
      "---  ------     --------------   ----- \n",
      " 0   JOBID      336950 non-null  object\n",
      " 1   ACCOUNT    336950 non-null  object\n",
      " 2   USER       336950 non-null  object\n",
      " 3   USEDMEM    336950 non-null  object\n",
      " 4   REQTIME    336950 non-null  object\n",
      " 5   USEDTIME   336950 non-null  object\n",
      " 6   NODES      336950 non-null  int64 \n",
      " 7   CPUS       336950 non-null  int64 \n",
      " 8   GPUS       336950 non-null  int64 \n",
      " 9   PARTITION  336950 non-null  object\n",
      " 10  EXITCODE   336950 non-null  object\n",
      " 11  STATE      336950 non-null  object\n",
      "dtypes: int64(3), object(9)\n",
      "memory usage: 30.8+ MB\n"
     ]
    }
   ],
   "source": [
    "df1.info()"
   ]
  },
  {
   "cell_type": "markdown",
   "id": "b8e0159d",
   "metadata": {},
   "source": [
    "**DATA Questions:**\n",
    "    The main objectives of this project are to examine the following questions:\n",
    "\n",
    "Q1 What is the distribution of per-GPU main memory usage over all runtime-weighed jobs in each partition? Knowing this will help ACCRE to understand our users memory needs for future hardware purchases.\n",
    "\n",
    "Q2 What is the distribution of the number of GPUs in each job (runtime-weighted) for each partition? What fraction of runtime-weighted and GPU-weighted jobs are using more than 4 GPUs and thus probably using the RoCE networking? Is this fraction different for each partition?\n",
    "\n",
    "Q3 What is the total runtime usage per-gpu (i.e. multiply runtime by the number of gpus) in each of the 3 partitions over the last year?\n",
    "\n",
    "Q4 What is the distribution of different groups and users accessing each partition? In each partition, who are the top users, and do they represent a majority of the runtime-weighted jobs on the partition?\n",
    "\n",
    "Q5 Currently there is a 5 day limit on runtime for GPU jobs, although some users have been asking for extensions. What is the distribution of requested runtime and actual runtime on jobs on each partition? Do users really need more time, or are they simply always requesting the maximum?"
   ]
  },
  {
   "cell_type": "code",
   "execution_count": 7,
   "id": "1c57cf7b",
   "metadata": {},
   "outputs": [
    {
     "data": {
      "text/plain": [
       "27"
      ]
     },
     "execution_count": 7,
     "metadata": {},
     "output_type": "execute_result"
    }
   ],
   "source": [
    "df1['ACCOUNT'].nunique()"
   ]
  },
  {
   "cell_type": "code",
   "execution_count": 8,
   "id": "43b07174",
   "metadata": {},
   "outputs": [
    {
     "data": {
      "text/plain": [
       "glasshouse       247125\n",
       "malanga           51677\n",
       "virginia          10342\n",
       "prince             7499\n",
       "grisette           5828\n",
       "harovin            5046\n",
       "antares            3222\n",
       "sunburst           1522\n",
       "pasilla            1362\n",
       "plumcot            1080\n",
       "pecans              628\n",
       "kinnow              436\n",
       "bertanne            221\n",
       "almonds             221\n",
       "apple               210\n",
       "cactus              117\n",
       "clara               100\n",
       "orange               79\n",
       "rosemarie            56\n",
       "horseradish          52\n",
       "sugranineteen        43\n",
       "white                36\n",
       "pinole               20\n",
       "gem                  19\n",
       "packham               7\n",
       "bunch                 1\n",
       "summer                1\n",
       "Name: ACCOUNT, dtype: int64"
      ]
     },
     "execution_count": 8,
     "metadata": {},
     "output_type": "execute_result"
    }
   ],
   "source": [
    "df1['ACCOUNT'].value_counts()"
   ]
  },
  {
   "cell_type": "code",
   "execution_count": 9,
   "id": "98185aab",
   "metadata": {},
   "outputs": [
    {
     "data": {
      "text/plain": [
       "00:00:00    51083\n",
       "00:00:07    19788\n",
       "00:00:08    11147\n",
       "00:00:09     6900\n",
       "00:00:06     5785\n",
       "            ...  \n",
       "09:02:07        1\n",
       "09:41:15        1\n",
       "09:04:46        1\n",
       "05:20:19        1\n",
       "01:37:38        1\n",
       "Name: USEDTIME, Length: 20818, dtype: int64"
      ]
     },
     "execution_count": 9,
     "metadata": {},
     "output_type": "execute_result"
    }
   ],
   "source": [
    "df1['USEDTIME'].value_counts()"
   ]
  },
  {
   "cell_type": "code",
   "execution_count": 10,
   "id": "3519e06e",
   "metadata": {},
   "outputs": [
    {
     "data": {
      "text/plain": [
       "0          58747\n",
       "5.53M      27838\n",
       "7.41M      17001\n",
       "5.54M      13246\n",
       "7.42M       3473\n",
       "           ...  \n",
       "214.51M        1\n",
       "219.42M        1\n",
       "217.21M        1\n",
       "217.34M        1\n",
       "145.24M        1\n",
       "Name: USEDMEM, Length: 114062, dtype: int64"
      ]
     },
     "execution_count": 10,
     "metadata": {},
     "output_type": "execute_result"
    }
   ],
   "source": [
    "df1['USEDMEM'].value_counts()"
   ]
  },
  {
   "cell_type": "code",
   "execution_count": 11,
   "id": "4392a5c5",
   "metadata": {},
   "outputs": [
    {
     "data": {
      "text/plain": [
       "10:00:00       138155\n",
       "2-00:00:00      54776\n",
       "00:30:00        30667\n",
       "5-00:00:00      28541\n",
       "12:00:00        14080\n",
       "                ...  \n",
       "13:00:00            1\n",
       "10-00:00:00         1\n",
       "2-05:00:00          1\n",
       "00:22:00            1\n",
       "11-00:00:00         1\n",
       "Name: REQTIME, Length: 76, dtype: int64"
      ]
     },
     "execution_count": 11,
     "metadata": {},
     "output_type": "execute_result"
    }
   ],
   "source": [
    "df1['REQTIME'].value_counts()"
   ]
  },
  {
   "cell_type": "code",
   "execution_count": 12,
   "id": "ddfa07cd",
   "metadata": {},
   "outputs": [
    {
     "data": {
      "text/plain": [
       "ACCOUNT        PARTITION\n",
       "almonds        turing       43427.70M040875.91M40023.96M44535.52M43227.90M...\n",
       "antares        pascal       1475.62M1779.30M1784.97M1784.22M1780.81M1783.6...\n",
       "               turing       3891.07M3901.01M3804.57M3816.78M3991.31M4022.3...\n",
       "apple          maxwell                                                 16.76M\n",
       "               turing       1439.46M149.39M35636.29M23944.04M35463.89M3797...\n",
       "bertanne       maxwell      007.41M7.41M7.41M9.22M9.22M7.42M6.02M7.36M7.41...\n",
       "               pascal       0006.05M123.93M125.50M000136.18M434.74M1335.41...\n",
       "               turing       05.43M7.43M7.42M5.41M5.43M5.41M5.41M5.43M7.43M...\n",
       "bunch          turing                                                   6.09M\n",
       "cactus         turing       01341.45M0266.16M271.75M0140.36M262.86M143.54M...\n",
       "clara          maxwell      549.10M638.61M000000006.16M0418.48M0840.29M000...\n",
       "gem            turing       7.85M7.41M9.21M3587.85M3623.39M12139.35M651.61...\n",
       "glasshouse     maxwell      0402.32M0374.38M404.90M403.18M0188.82M197.35M4...\n",
       "               pascal       417.62M450.09M403.40M0374.89M418.30M000419.86M...\n",
       "               turing       1194.54M1357.73M1076.09M1024.03M1152.14M1159.9...\n",
       "grisette       pascal       000000000000000000000000000000001512.13M1798.8...\n",
       "harovin        turing       04289.31M4282.87M4286.54M000010440.14M10472.05...\n",
       "horseradish    pascal       012177.73M18466.95M19187.59M19190.83M555.95M33...\n",
       "kinnow         pascal       8.94M022548.67M22206.45M6.05M6.05M24086.65M241...\n",
       "malanga        pascal       18.66M1119.66M00000000000000000000000000000000...\n",
       "orange         maxwell      051.12M24157.76M59775.11M38609.14M091.59M85868...\n",
       "packham        pascal            9042M02894.96M93.09M4464.63M4591.76M2505.61M\n",
       "pasilla        maxwell      000000000000000000007.41M7.41M7.41M7.41M7.41M7...\n",
       "               pascal       0000000000000000000013.42M11.34M11.77M11.47M9....\n",
       "               turing       0000000000000000000010.46M7.00M5.99M6.98M7.00M...\n",
       "pecans         pascal       27.97M001293.58M4061.51M4654.05M0581.99M000000...\n",
       "pinole         turing       3223.07M2928.99M2599.05M0452.41M121.93M672.32M...\n",
       "plumcot        maxwell      8.94M00000000012799.79M13184.74M13915.77M13642...\n",
       "prince         pascal       007941.37M8063.32M5004.32M5005.53M5674.96M5263...\n",
       "               turing       6050.20M5616.50M5805.52M5583.17M5934.51M6484.5...\n",
       "rosemarie      pascal       055.61M7.76M7.75M7.76M7.76M7.76M7.75M7.75M7.75...\n",
       "sugranineteen  turing       88.57M092.32M54.46M32.72M128.54M000000008.38M9...\n",
       "summer         maxwell                                                 92.66M\n",
       "sunburst       pascal       151.40M143.45M140.25M156.66M173.94M146.01M139....\n",
       "virginia       pascal       57728.67M84.91M132.88M26171.17M85.43M25050.10M...\n",
       "               turing       4039.36M55.39M281.12M57.32M000000129.24M073.67...\n",
       "white          maxwell      0122.54M1924.31M1316.61M2432.36M2356.98M3296.4...\n",
       "Name: USEDMEM, dtype: object"
      ]
     },
     "execution_count": 12,
     "metadata": {},
     "output_type": "execute_result"
    }
   ],
   "source": [
    "df1.groupby(['ACCOUNT','PARTITION'])['USEDMEM'].sum().sort_index()"
   ]
  },
  {
   "cell_type": "code",
   "execution_count": 13,
   "id": "072ee4d6",
   "metadata": {},
   "outputs": [
    {
     "data": {
      "text/plain": [
       "98"
      ]
     },
     "execution_count": 13,
     "metadata": {},
     "output_type": "execute_result"
    }
   ],
   "source": [
    "df1['STATE'].nunique()"
   ]
  },
  {
   "cell_type": "code",
   "execution_count": 14,
   "id": "96d95a09",
   "metadata": {},
   "outputs": [
    {
     "data": {
      "text/plain": [
       "COMPLETED              283333\n",
       "CANCELLED by 9201       41637\n",
       "CANCELLED by 174423      6116\n",
       "RUNNING                  1237\n",
       "CANCELLED                 947\n",
       "                        ...  \n",
       "CANCELLED by 859439         1\n",
       "CANCELLED by 0              1\n",
       "CANCELLED by 765671         1\n",
       "CANCELLED by 856815         1\n",
       "CANCELLED by 899035         1\n",
       "Name: STATE, Length: 98, dtype: int64"
      ]
     },
     "execution_count": 14,
     "metadata": {},
     "output_type": "execute_result"
    }
   ],
   "source": [
    "df1['STATE'].value_counts()"
   ]
  },
  {
   "cell_type": "code",
   "execution_count": 15,
   "id": "262eca97",
   "metadata": {},
   "outputs": [
    {
     "data": {
      "text/plain": [
       "array(['COMPLETED', 'CANCELLED by 9201', 'CANCELLED by 859023',\n",
       "       'CANCELLED by 153500', 'CANCELLED by 168618',\n",
       "       'CANCELLED by 888717', 'FAILED', 'CANCELLED by 859269',\n",
       "       'CANCELLED by 756088', 'CANCELLED by 887337',\n",
       "       'CANCELLED by 858683', 'CANCELLED', 'CANCELLED by 885613',\n",
       "       'CANCELLED by 342288', 'CANCELLED by 855431',\n",
       "       'CANCELLED by 491383', 'CANCELLED by 776393',\n",
       "       'CANCELLED by 844796', 'CANCELLED by 780767',\n",
       "       'CANCELLED by 505355', 'CANCELLED by 649321',\n",
       "       'CANCELLED by 890189', 'CANCELLED by 59229', 'CANCELLED by 649319',\n",
       "       'CANCELLED by 590520', 'CANCELLED by 478095',\n",
       "       'CANCELLED by 196703', 'CANCELLED by 308082',\n",
       "       'CANCELLED by 757496', 'CANCELLED by 454080',\n",
       "       'CANCELLED by 512947', 'CANCELLED by 762866',\n",
       "       'CANCELLED by 859465', 'CANCELLED by 161909',\n",
       "       'CANCELLED by 785491', 'CANCELLED by 90423', 'CANCELLED by 159541',\n",
       "       'CANCELLED by 859439', 'CANCELLED by 349259',\n",
       "       'CANCELLED by 854809', 'CANCELLED by 788885',\n",
       "       'CANCELLED by 352520', 'CANCELLED by 891959',\n",
       "       'CANCELLED by 133418', 'CANCELLED by 899293',\n",
       "       'CANCELLED by 793749', 'CANCELLED by 895279',\n",
       "       'CANCELLED by 891353', 'CANCELLED by 877653',\n",
       "       'CANCELLED by 891185', 'CANCELLED by 892663',\n",
       "       'CANCELLED by 855879', 'CANCELLED by 889363',\n",
       "       'CANCELLED by 174423', 'CANCELLED by 353986',\n",
       "       'CANCELLED by 879523', 'CANCELLED by 856815',\n",
       "       'CANCELLED by 765671', 'CANCELLED by 887851',\n",
       "       'CANCELLED by 765335', 'CANCELLED by 889839',\n",
       "       'CANCELLED by 891307', 'CANCELLED by 901239',\n",
       "       'CANCELLED by 897787', 'CANCELLED by 654501',\n",
       "       'CANCELLED by 895635', 'CANCELLED by 0', 'CANCELLED by 859303',\n",
       "       'CANCELLED by 19853', 'CANCELLED by 46207', 'CANCELLED by 855349',\n",
       "       'CANCELLED by 879907', 'CANCELLED by 787173',\n",
       "       'CANCELLED by 885837', 'CANCELLED by 913169',\n",
       "       'CANCELLED by 784871', 'CANCELLED by 891323',\n",
       "       'CANCELLED by 171822', 'CANCELLED by 784793',\n",
       "       'CANCELLED by 892269', 'CANCELLED by 888529',\n",
       "       'CANCELLED by 856077', 'CANCELLED by 777651',\n",
       "       'CANCELLED by 111694', 'CANCELLED by 766842', 'RUNNING',\n",
       "       'CANCELLED by 154476', 'PENDING', 'CANCELLED by 890725',\n",
       "       'CANCELLED by 786713', 'CANCELLED by 796815',\n",
       "       'CANCELLED by 762584', 'CANCELLED by 646120',\n",
       "       'CANCELLED by 778999', 'OUT_OF_MEMORY', 'CANCELLED by 767350',\n",
       "       'CANCELLED by 910235', 'CANCELLED by 899035'], dtype=object)"
      ]
     },
     "execution_count": 15,
     "metadata": {},
     "output_type": "execute_result"
    }
   ],
   "source": [
    "df1['STATE'].unique()"
   ]
  },
  {
   "cell_type": "code",
   "execution_count": 16,
   "id": "d1322627",
   "metadata": {},
   "outputs": [
    {
     "name": "stderr",
     "output_type": "stream",
     "text": [
      "C:\\Users\\upadh\\AppData\\Local\\Temp\\ipykernel_16564\\3181272860.py:1: FutureWarning: Indexing with multiple keys (implicitly converted to a tuple of keys) will be deprecated, use a list instead.\n",
      "  df2 = df1.groupby(['ACCOUNT','PARTITION','STATE'])['USEDMEM', 'USEDTIME'].agg('sum')\n"
     ]
    },
    {
     "data": {
      "text/html": [
       "<div>\n",
       "<style scoped>\n",
       "    .dataframe tbody tr th:only-of-type {\n",
       "        vertical-align: middle;\n",
       "    }\n",
       "\n",
       "    .dataframe tbody tr th {\n",
       "        vertical-align: top;\n",
       "    }\n",
       "\n",
       "    .dataframe thead th {\n",
       "        text-align: right;\n",
       "    }\n",
       "</style>\n",
       "<table border=\"1\" class=\"dataframe\">\n",
       "  <thead>\n",
       "    <tr style=\"text-align: right;\">\n",
       "      <th></th>\n",
       "      <th></th>\n",
       "      <th></th>\n",
       "      <th>USEDMEM</th>\n",
       "      <th>USEDTIME</th>\n",
       "    </tr>\n",
       "    <tr>\n",
       "      <th>ACCOUNT</th>\n",
       "      <th>PARTITION</th>\n",
       "      <th>STATE</th>\n",
       "      <th></th>\n",
       "      <th></th>\n",
       "    </tr>\n",
       "  </thead>\n",
       "  <tbody>\n",
       "    <tr>\n",
       "      <th rowspan=\"6\" valign=\"top\">almonds</th>\n",
       "      <th rowspan=\"6\" valign=\"top\">turing</th>\n",
       "      <th>CANCELLED</th>\n",
       "      <td>959.70M2347.09M2377.10M2831.22M01734.94M2106.8...</td>\n",
       "      <td>00:24:5300:30:5300:30:1200:45:1700:00:0500:05:...</td>\n",
       "    </tr>\n",
       "    <tr>\n",
       "      <th>CANCELLED by 879907</th>\n",
       "      <td>00</td>\n",
       "      <td>00:00:0000:00:00</td>\n",
       "    </tr>\n",
       "    <tr>\n",
       "      <th>CANCELLED by 891323</th>\n",
       "      <td>00000000</td>\n",
       "      <td>00:00:0000:00:0000:00:0000:00:0000:00:0000:00:...</td>\n",
       "    </tr>\n",
       "    <tr>\n",
       "      <th>CANCELLED by 892663</th>\n",
       "      <td>00000000</td>\n",
       "      <td>00:00:0000:00:0000:00:0000:00:0000:00:0000:00:...</td>\n",
       "    </tr>\n",
       "    <tr>\n",
       "      <th>COMPLETED</th>\n",
       "      <td>43427.70M040875.91M40023.96M44535.52M43227.90M...</td>\n",
       "      <td>04:32:3500:00:1700:01:5600:02:1712:02:3405:43:...</td>\n",
       "    </tr>\n",
       "    <tr>\n",
       "      <th>FAILED</th>\n",
       "      <td>3142.48M2727.75M2758.29M2506.93M70.55M2681.18M</td>\n",
       "      <td>00:26:3100:16:2800:25:0000:03:4300:02:0300:18:11</td>\n",
       "    </tr>\n",
       "    <tr>\n",
       "      <th rowspan=\"4\" valign=\"top\">antares</th>\n",
       "      <th rowspan=\"4\" valign=\"top\">pascal</th>\n",
       "      <th>CANCELLED</th>\n",
       "      <td>000000</td>\n",
       "      <td>00:00:1500:00:0200:00:0200:00:0200:00:0200:00:03</td>\n",
       "    </tr>\n",
       "    <tr>\n",
       "      <th>CANCELLED by 349259</th>\n",
       "      <td>000000000</td>\n",
       "      <td>00:00:0000:00:0000:00:0000:00:0000:00:0000:00:...</td>\n",
       "    </tr>\n",
       "    <tr>\n",
       "      <th>CANCELLED by 890189</th>\n",
       "      <td>0000</td>\n",
       "      <td>00:00:0000:00:0000:00:0000:00:00</td>\n",
       "    </tr>\n",
       "    <tr>\n",
       "      <th>COMPLETED</th>\n",
       "      <td>1475.62M1779.30M1784.97M1784.22M1780.81M1783.6...</td>\n",
       "      <td>00:10:1700:55:1201:02:0401:10:4501:07:1101:04:...</td>\n",
       "    </tr>\n",
       "  </tbody>\n",
       "</table>\n",
       "</div>"
      ],
      "text/plain": [
       "                                                                                 USEDMEM  \\\n",
       "ACCOUNT PARTITION STATE                                                                    \n",
       "almonds turing    CANCELLED            959.70M2347.09M2377.10M2831.22M01734.94M2106.8...   \n",
       "                  CANCELLED by 879907                                                 00   \n",
       "                  CANCELLED by 891323                                           00000000   \n",
       "                  CANCELLED by 892663                                           00000000   \n",
       "                  COMPLETED            43427.70M040875.91M40023.96M44535.52M43227.90M...   \n",
       "                  FAILED                  3142.48M2727.75M2758.29M2506.93M70.55M2681.18M   \n",
       "antares pascal    CANCELLED                                                       000000   \n",
       "                  CANCELLED by 349259                                          000000000   \n",
       "                  CANCELLED by 890189                                               0000   \n",
       "                  COMPLETED            1475.62M1779.30M1784.97M1784.22M1780.81M1783.6...   \n",
       "\n",
       "                                                                                USEDTIME  \n",
       "ACCOUNT PARTITION STATE                                                                   \n",
       "almonds turing    CANCELLED            00:24:5300:30:5300:30:1200:45:1700:00:0500:05:...  \n",
       "                  CANCELLED by 879907                                   00:00:0000:00:00  \n",
       "                  CANCELLED by 891323  00:00:0000:00:0000:00:0000:00:0000:00:0000:00:...  \n",
       "                  CANCELLED by 892663  00:00:0000:00:0000:00:0000:00:0000:00:0000:00:...  \n",
       "                  COMPLETED            04:32:3500:00:1700:01:5600:02:1712:02:3405:43:...  \n",
       "                  FAILED                00:26:3100:16:2800:25:0000:03:4300:02:0300:18:11  \n",
       "antares pascal    CANCELLED             00:00:1500:00:0200:00:0200:00:0200:00:0200:00:03  \n",
       "                  CANCELLED by 349259  00:00:0000:00:0000:00:0000:00:0000:00:0000:00:...  \n",
       "                  CANCELLED by 890189                   00:00:0000:00:0000:00:0000:00:00  \n",
       "                  COMPLETED            00:10:1700:55:1201:02:0401:10:4501:07:1101:04:...  "
      ]
     },
     "execution_count": 16,
     "metadata": {},
     "output_type": "execute_result"
    }
   ],
   "source": [
    "df2 = df1.groupby(['ACCOUNT','PARTITION','STATE'])['USEDMEM', 'USEDTIME'].agg('sum')\n",
    "df2.head(10)\n"
   ]
  },
  {
   "cell_type": "markdown",
   "id": "a9252c1c",
   "metadata": {},
   "source": [
    "**making a df with only the completed jobs**"
   ]
  },
  {
   "cell_type": "code",
   "execution_count": 17,
   "id": "6f04386d",
   "metadata": {},
   "outputs": [],
   "source": [
    "df_State_comleted = df1.loc[df1['STATE'] == 'COMPLETED']"
   ]
  },
  {
   "cell_type": "code",
   "execution_count": 18,
   "id": "295aca87",
   "metadata": {},
   "outputs": [
    {
     "data": {
      "text/plain": [
       "(283333, 12)"
      ]
     },
     "execution_count": 18,
     "metadata": {},
     "output_type": "execute_result"
    }
   ],
   "source": [
    "df_State_comleted.shape"
   ]
  },
  {
   "cell_type": "code",
   "execution_count": 19,
   "id": "b059c03b",
   "metadata": {},
   "outputs": [
    {
     "data": {
      "text/plain": [
       "glasshouse       237060\n",
       "malanga            9901\n",
       "virginia           9556\n",
       "prince             7459\n",
       "grisette           5786\n",
       "harovin            4729\n",
       "antares            3203\n",
       "sunburst           1390\n",
       "pasilla            1329\n",
       "plumcot            1027\n",
       "pecans              609\n",
       "kinnow              380\n",
       "bertanne            195\n",
       "almonds             189\n",
       "cactus              113\n",
       "clara                76\n",
       "orange               74\n",
       "rosemarie            55\n",
       "horseradish          48\n",
       "apple                45\n",
       "white                31\n",
       "sugranineteen        31\n",
       "pinole               19\n",
       "gem                  19\n",
       "packham               7\n",
       "summer                1\n",
       "bunch                 1\n",
       "Name: ACCOUNT, dtype: int64"
      ]
     },
     "execution_count": 19,
     "metadata": {},
     "output_type": "execute_result"
    }
   ],
   "source": [
    "df_State_comleted['ACCOUNT'].value_counts()"
   ]
  },
  {
   "cell_type": "code",
   "execution_count": 20,
   "id": "e79b5777",
   "metadata": {},
   "outputs": [
    {
     "name": "stdout",
     "output_type": "stream",
     "text": [
      "total =  2101\n"
     ]
    }
   ],
   "source": [
    "timeInterval ='00:35:01'\n",
    "list = timeInterval.split(':')\n",
    "hours = list[0]\n",
    "minutes = list[1]\n",
    "seconds = list[2]\n",
    "total = (int(hours) * 3600 + int(minutes) * 60 + int(seconds))\n",
    "print(\"total = \", total)"
   ]
  },
  {
   "cell_type": "code",
   "execution_count": 21,
   "id": "bf9050af",
   "metadata": {},
   "outputs": [],
   "source": [
    "#df1['Time'] = pd.to_timedelta(df1['USEDTIME']) #this is not needed we will split using the regullr expressions"
   ]
  },
  {
   "cell_type": "markdown",
   "id": "3554bcce",
   "metadata": {},
   "source": [
    "**Trying to make a function to convert the USEDTIME into a seonds column**"
   ]
  },
  {
   "cell_type": "code",
   "execution_count": 22,
   "id": "27444e33",
   "metadata": {},
   "outputs": [
    {
     "name": "stdout",
     "output_type": "stream",
     "text": [
      "['00', '13', '13']\n",
      "793\n"
     ]
    }
   ],
   "source": [
    "time = df1['USEDTIME'].tolist()[0] # converting the first row into the list and spliting on the :\n",
    "time_list = time.split(':')\n",
    "print(time_list)\n",
    "\n",
    "hours = time_list[0]\n",
    "minutes = time_list[1]\n",
    "seconds = time_list[2]\n",
    "total = (int(hours) * 3600 + int(minutes) * 60 + int(seconds))\n",
    "print(total)"
   ]
  },
  {
   "cell_type": "code",
   "execution_count": 23,
   "id": "83b7ae3b",
   "metadata": {},
   "outputs": [
    {
     "data": {
      "text/html": [
       "<div>\n",
       "<style scoped>\n",
       "    .dataframe tbody tr th:only-of-type {\n",
       "        vertical-align: middle;\n",
       "    }\n",
       "\n",
       "    .dataframe tbody tr th {\n",
       "        vertical-align: top;\n",
       "    }\n",
       "\n",
       "    .dataframe thead th {\n",
       "        text-align: right;\n",
       "    }\n",
       "</style>\n",
       "<table border=\"1\" class=\"dataframe\">\n",
       "  <thead>\n",
       "    <tr style=\"text-align: right;\">\n",
       "      <th></th>\n",
       "      <th>JOBID</th>\n",
       "      <th>ACCOUNT</th>\n",
       "      <th>USER</th>\n",
       "      <th>USEDMEM</th>\n",
       "      <th>REQTIME</th>\n",
       "      <th>USEDTIME</th>\n",
       "      <th>NODES</th>\n",
       "      <th>CPUS</th>\n",
       "      <th>GPUS</th>\n",
       "      <th>PARTITION</th>\n",
       "      <th>EXITCODE</th>\n",
       "      <th>STATE</th>\n",
       "    </tr>\n",
       "  </thead>\n",
       "  <tbody>\n",
       "    <tr>\n",
       "      <th>0</th>\n",
       "      <td>32880657</td>\n",
       "      <td>malanga</td>\n",
       "      <td>arline</td>\n",
       "      <td>18.66M</td>\n",
       "      <td>2-00:00:00</td>\n",
       "      <td>00:13:13</td>\n",
       "      <td>1</td>\n",
       "      <td>2</td>\n",
       "      <td>1</td>\n",
       "      <td>pascal</td>\n",
       "      <td>0:0</td>\n",
       "      <td>COMPLETED</td>\n",
       "    </tr>\n",
       "    <tr>\n",
       "      <th>1</th>\n",
       "      <td>32880701</td>\n",
       "      <td>glasshouse</td>\n",
       "      <td>brady</td>\n",
       "      <td>0</td>\n",
       "      <td>05:00:00</td>\n",
       "      <td>00:00:22</td>\n",
       "      <td>1</td>\n",
       "      <td>3</td>\n",
       "      <td>1</td>\n",
       "      <td>maxwell</td>\n",
       "      <td>0:0</td>\n",
       "      <td>COMPLETED</td>\n",
       "    </tr>\n",
       "    <tr>\n",
       "      <th>2</th>\n",
       "      <td>32880718</td>\n",
       "      <td>glasshouse</td>\n",
       "      <td>brady</td>\n",
       "      <td>402.32M</td>\n",
       "      <td>05:00:00</td>\n",
       "      <td>00:08:57</td>\n",
       "      <td>1</td>\n",
       "      <td>3</td>\n",
       "      <td>1</td>\n",
       "      <td>maxwell</td>\n",
       "      <td>0:0</td>\n",
       "      <td>COMPLETED</td>\n",
       "    </tr>\n",
       "    <tr>\n",
       "      <th>3</th>\n",
       "      <td>32880719</td>\n",
       "      <td>glasshouse</td>\n",
       "      <td>brady</td>\n",
       "      <td>417.62M</td>\n",
       "      <td>20:00:00</td>\n",
       "      <td>05:09:46</td>\n",
       "      <td>1</td>\n",
       "      <td>1</td>\n",
       "      <td>1</td>\n",
       "      <td>pascal</td>\n",
       "      <td>0:0</td>\n",
       "      <td>COMPLETED</td>\n",
       "    </tr>\n",
       "    <tr>\n",
       "      <th>4</th>\n",
       "      <td>32880720</td>\n",
       "      <td>glasshouse</td>\n",
       "      <td>brady</td>\n",
       "      <td>450.09M</td>\n",
       "      <td>15:00:00</td>\n",
       "      <td>04:11:10</td>\n",
       "      <td>1</td>\n",
       "      <td>1</td>\n",
       "      <td>1</td>\n",
       "      <td>pascal</td>\n",
       "      <td>0:0</td>\n",
       "      <td>COMPLETED</td>\n",
       "    </tr>\n",
       "    <tr>\n",
       "      <th>5</th>\n",
       "      <td>32880721</td>\n",
       "      <td>glasshouse</td>\n",
       "      <td>brady</td>\n",
       "      <td>403.40M</td>\n",
       "      <td>3-12:00:00</td>\n",
       "      <td>18:49:36</td>\n",
       "      <td>1</td>\n",
       "      <td>1</td>\n",
       "      <td>1</td>\n",
       "      <td>pascal</td>\n",
       "      <td>0:0</td>\n",
       "      <td>COMPLETED</td>\n",
       "    </tr>\n",
       "    <tr>\n",
       "      <th>6</th>\n",
       "      <td>32880722</td>\n",
       "      <td>glasshouse</td>\n",
       "      <td>brady</td>\n",
       "      <td>0</td>\n",
       "      <td>3-12:00:00</td>\n",
       "      <td>3-12:00:07</td>\n",
       "      <td>1</td>\n",
       "      <td>1</td>\n",
       "      <td>1</td>\n",
       "      <td>pascal</td>\n",
       "      <td>0:0</td>\n",
       "      <td>COMPLETED</td>\n",
       "    </tr>\n",
       "    <tr>\n",
       "      <th>7</th>\n",
       "      <td>32880741</td>\n",
       "      <td>malanga</td>\n",
       "      <td>arline</td>\n",
       "      <td>1119.66M</td>\n",
       "      <td>2-00:00:00</td>\n",
       "      <td>08:09:18</td>\n",
       "      <td>1</td>\n",
       "      <td>2</td>\n",
       "      <td>1</td>\n",
       "      <td>pascal</td>\n",
       "      <td>0:0</td>\n",
       "      <td>COMPLETED</td>\n",
       "    </tr>\n",
       "    <tr>\n",
       "      <th>8</th>\n",
       "      <td>32880758</td>\n",
       "      <td>malanga</td>\n",
       "      <td>arline</td>\n",
       "      <td>0</td>\n",
       "      <td>2-00:00:00</td>\n",
       "      <td>00:00:00</td>\n",
       "      <td>0</td>\n",
       "      <td>2</td>\n",
       "      <td>1</td>\n",
       "      <td>pascal</td>\n",
       "      <td>0:0</td>\n",
       "      <td>CANCELLED by 9201</td>\n",
       "    </tr>\n",
       "    <tr>\n",
       "      <th>9</th>\n",
       "      <td>32880759</td>\n",
       "      <td>malanga</td>\n",
       "      <td>arline</td>\n",
       "      <td>0</td>\n",
       "      <td>2-00:00:00</td>\n",
       "      <td>00:00:00</td>\n",
       "      <td>0</td>\n",
       "      <td>2</td>\n",
       "      <td>1</td>\n",
       "      <td>pascal</td>\n",
       "      <td>0:0</td>\n",
       "      <td>CANCELLED by 9201</td>\n",
       "    </tr>\n",
       "  </tbody>\n",
       "</table>\n",
       "</div>"
      ],
      "text/plain": [
       "      JOBID     ACCOUNT    USER   USEDMEM     REQTIME    USEDTIME  NODES  \\\n",
       "0  32880657     malanga  arline    18.66M  2-00:00:00    00:13:13      1   \n",
       "1  32880701  glasshouse   brady         0    05:00:00    00:00:22      1   \n",
       "2  32880718  glasshouse   brady   402.32M    05:00:00    00:08:57      1   \n",
       "3  32880719  glasshouse   brady   417.62M    20:00:00    05:09:46      1   \n",
       "4  32880720  glasshouse   brady   450.09M    15:00:00    04:11:10      1   \n",
       "5  32880721  glasshouse   brady   403.40M  3-12:00:00    18:49:36      1   \n",
       "6  32880722  glasshouse   brady         0  3-12:00:00  3-12:00:07      1   \n",
       "7  32880741     malanga  arline  1119.66M  2-00:00:00    08:09:18      1   \n",
       "8  32880758     malanga  arline         0  2-00:00:00    00:00:00      0   \n",
       "9  32880759     malanga  arline         0  2-00:00:00    00:00:00      0   \n",
       "\n",
       "   CPUS  GPUS PARTITION EXITCODE              STATE  \n",
       "0     2     1    pascal      0:0          COMPLETED  \n",
       "1     3     1   maxwell      0:0          COMPLETED  \n",
       "2     3     1   maxwell      0:0          COMPLETED  \n",
       "3     1     1    pascal      0:0          COMPLETED  \n",
       "4     1     1    pascal      0:0          COMPLETED  \n",
       "5     1     1    pascal      0:0          COMPLETED  \n",
       "6     1     1    pascal      0:0          COMPLETED  \n",
       "7     2     1    pascal      0:0          COMPLETED  \n",
       "8     2     1    pascal      0:0  CANCELLED by 9201  \n",
       "9     2     1    pascal      0:0  CANCELLED by 9201  "
      ]
     },
     "execution_count": 23,
     "metadata": {},
     "output_type": "execute_result"
    }
   ],
   "source": [
    "df1.head(10)"
   ]
  },
  {
   "cell_type": "code",
   "execution_count": 24,
   "id": "a78f3fd0",
   "metadata": {},
   "outputs": [
    {
     "ename": "TypeError",
     "evalue": "'str' object cannot be interpreted as an integer",
     "output_type": "error",
     "traceback": [
      "\u001b[1;31m---------------------------------------------------------------------------\u001b[0m",
      "\u001b[1;31mTypeError\u001b[0m                                 Traceback (most recent call last)",
      "Input \u001b[1;32mIn [24]\u001b[0m, in \u001b[0;36m<cell line: 2>\u001b[1;34m()\u001b[0m\n\u001b[0;32m      1\u001b[0m time \u001b[38;5;241m=\u001b[39m df1[\u001b[38;5;124m'\u001b[39m\u001b[38;5;124mUSEDTIME\u001b[39m\u001b[38;5;124m'\u001b[39m]\u001b[38;5;241m.\u001b[39mtolist()[\u001b[38;5;241m6\u001b[39m]\n\u001b[1;32m----> 2\u001b[0m time_list \u001b[38;5;241m=\u001b[39m \u001b[43mtime\u001b[49m\u001b[38;5;241;43m.\u001b[39;49m\u001b[43msplit\u001b[49m\u001b[43m(\u001b[49m\u001b[38;5;124;43m'\u001b[39;49m\u001b[38;5;124;43m-\u001b[39;49m\u001b[38;5;124;43m'\u001b[39;49m\u001b[43m,\u001b[49m\u001b[38;5;124;43m'\u001b[39;49m\u001b[38;5;124;43m:\u001b[39;49m\u001b[38;5;124;43m'\u001b[39;49m\u001b[43m)\u001b[49m\n\u001b[0;32m      3\u001b[0m time_list\n",
      "\u001b[1;31mTypeError\u001b[0m: 'str' object cannot be interpreted as an integer"
     ]
    }
   ],
   "source": [
    "time = df1['USEDTIME'].tolist()[6]\n",
    "time_list = time.split('-',':')\n",
    "time_list"
   ]
  },
  {
   "cell_type": "code",
   "execution_count": 25,
   "id": "56befc62",
   "metadata": {},
   "outputs": [],
   "source": [
    "import re"
   ]
  },
  {
   "cell_type": "code",
   "execution_count": 26,
   "id": "2f1c5bf9",
   "metadata": {},
   "outputs": [
    {
     "data": {
      "text/plain": [
       "['3', '12', '00', '07']"
      ]
     },
     "execution_count": 26,
     "metadata": {},
     "output_type": "execute_result"
    }
   ],
   "source": [
    "re.split('[-:]', time)"
   ]
  },
  {
   "cell_type": "code",
   "execution_count": 37,
   "id": "ac2c8832",
   "metadata": {},
   "outputs": [
    {
     "name": "stdout",
     "output_type": "stream",
     "text": [
      "['3', '12', '00', '07']\n"
     ]
    }
   ],
   "source": [
    "time = df1['USEDTIME'].tolist()[6]\n",
    "time_list1 = re.split('[-:]', time)\n",
    "print(time_list1)\n",
    "x = []\n",
    "\n",
    "def time_function(time_list1):         \n",
    "    days = time_list1[0]\n",
    "    hours = time_list1[1]\n",
    "    minutes = time_list1[2]\n",
    "    seconds = time_list1[3]\n",
    "    total_1 = (int(days)* 86400 + int(hours) * 3600 + int(minutes) * 60 + int(seconds))\n",
    "    #x.append(total)\n",
    "    print(total_1)"
   ]
  },
  {
   "cell_type": "code",
   "execution_count": 39,
   "id": "c84687cc",
   "metadata": {},
   "outputs": [
    {
     "name": "stdout",
     "output_type": "stream",
     "text": [
      "302407\n"
     ]
    }
   ],
   "source": [
    "time_list1  = re.split('[-:]', time)\n",
    "time_function(time_list1)\n",
    "\n",
    "##it is working for the days in the column (d-hh:mm:ss) we need to modify the slplit arrgument so that the list item at index [0] becomes 0 if there are no days."
   ]
  },
  {
   "cell_type": "code",
   "execution_count": null,
   "id": "9d9093af",
   "metadata": {},
   "outputs": [],
   "source": []
  }
 ],
 "metadata": {
  "kernelspec": {
   "display_name": "Python 3 (ipykernel)",
   "language": "python",
   "name": "python3"
  },
  "language_info": {
   "codemirror_mode": {
    "name": "ipython",
    "version": 3
   },
   "file_extension": ".py",
   "mimetype": "text/x-python",
   "name": "python",
   "nbconvert_exporter": "python",
   "pygments_lexer": "ipython3",
   "version": "3.9.12"
  }
 },
 "nbformat": 4,
 "nbformat_minor": 5
}
